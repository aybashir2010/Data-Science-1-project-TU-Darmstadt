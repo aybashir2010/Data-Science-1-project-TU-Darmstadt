{
 "cells": [
  {
   "cell_type": "markdown",
   "id": "7693cf76",
   "metadata": {},
   "source": [
    "# PROJECT FOR DATA SCIENCE 1 COURSE\n",
    "## SIGNAL PROCESSING GROUP\n",
    "### TU DARMSTADT.\n",
    "#### By Ayinde Bashir "
   ]
  },
  {
   "cell_type": "markdown",
   "id": "9a14d7c2",
   "metadata": {},
   "source": [
    "###  Introduction\n",
    "Forest fire has affected many regions in the world. Europe, America, and Australia have been badly affected by the risk of this disaster. Forest fires, particularly those that usually occur close to urban areas are identified as one of the significant threats to public health security in the 21st century (WHO, 2007). The disaster contributes to loss of life, property, climate change, and environmental degradation. However, due to the effect, there is a need for different stakeholders to identify the risk and magnitude of the impacts of these forest fires and also contribute to disaster risk reduction using the various structural and non-structural approaches.\n",
    "\n",
    "This study aim to predict burnt area using Linear regression and support vector machine regression model, and evaluates the performance of the two model.\n",
    "this report will also address the following research questions.\n",
    "1. Which of the variables significantly influence the extent of the forest fire?\n",
    "2. Does the relationship between the periods (months and days) and extent of forest fire (area) have any significant effect?"
   ]
  },
  {
   "cell_type": "code",
   "execution_count": 251,
   "id": "d2ad1d54",
   "metadata": {},
   "outputs": [],
   "source": [
    "## Importing the packages\n",
    "import numpy as np\n",
    "import pandas as pd\n",
    "import seaborn as sns\n",
    "import matplotlib.pyplot as plt\n",
    "import scipy.stats as stats\n",
    "\n",
    "from sklearn import preprocessing\n",
    "from sklearn.model_selection import train_test_split\n",
    "from sklearn import metrics\n",
    "from sklearn import linear_model\n",
    "from sklearn.svm import SVR\n",
    "from scipy import stats\n",
    "\n",
    "import os"
   ]
  },
  {
   "cell_type": "markdown",
   "id": "fa565bb4",
   "metadata": {},
   "source": [
    "# PREPROCESSING "
   ]
  },
  {
   "cell_type": "code",
   "execution_count": 181,
   "id": "5ee0ec9a",
   "metadata": {},
   "outputs": [
    {
     "data": {
      "text/html": [
       "<div>\n",
       "<style scoped>\n",
       "    .dataframe tbody tr th:only-of-type {\n",
       "        vertical-align: middle;\n",
       "    }\n",
       "\n",
       "    .dataframe tbody tr th {\n",
       "        vertical-align: top;\n",
       "    }\n",
       "\n",
       "    .dataframe thead th {\n",
       "        text-align: right;\n",
       "    }\n",
       "</style>\n",
       "<table border=\"1\" class=\"dataframe\">\n",
       "  <thead>\n",
       "    <tr style=\"text-align: right;\">\n",
       "      <th></th>\n",
       "      <th>X</th>\n",
       "      <th>Y</th>\n",
       "      <th>month</th>\n",
       "      <th>day</th>\n",
       "      <th>FFMC</th>\n",
       "      <th>DMC</th>\n",
       "      <th>DC</th>\n",
       "      <th>ISI</th>\n",
       "      <th>temp</th>\n",
       "      <th>RH</th>\n",
       "      <th>wind</th>\n",
       "      <th>rain</th>\n",
       "      <th>area</th>\n",
       "    </tr>\n",
       "  </thead>\n",
       "  <tbody>\n",
       "    <tr>\n",
       "      <th>0</th>\n",
       "      <td>7</td>\n",
       "      <td>5</td>\n",
       "      <td>mar</td>\n",
       "      <td>fri</td>\n",
       "      <td>86.2</td>\n",
       "      <td>26.2</td>\n",
       "      <td>94.3</td>\n",
       "      <td>5.1</td>\n",
       "      <td>8.2</td>\n",
       "      <td>51</td>\n",
       "      <td>6.7</td>\n",
       "      <td>0.0</td>\n",
       "      <td>0.0</td>\n",
       "    </tr>\n",
       "    <tr>\n",
       "      <th>1</th>\n",
       "      <td>7</td>\n",
       "      <td>4</td>\n",
       "      <td>oct</td>\n",
       "      <td>tue</td>\n",
       "      <td>90.6</td>\n",
       "      <td>35.4</td>\n",
       "      <td>669.1</td>\n",
       "      <td>6.7</td>\n",
       "      <td>18.0</td>\n",
       "      <td>33</td>\n",
       "      <td>0.9</td>\n",
       "      <td>0.0</td>\n",
       "      <td>0.0</td>\n",
       "    </tr>\n",
       "    <tr>\n",
       "      <th>2</th>\n",
       "      <td>7</td>\n",
       "      <td>4</td>\n",
       "      <td>oct</td>\n",
       "      <td>sat</td>\n",
       "      <td>90.6</td>\n",
       "      <td>43.7</td>\n",
       "      <td>686.9</td>\n",
       "      <td>6.7</td>\n",
       "      <td>14.6</td>\n",
       "      <td>33</td>\n",
       "      <td>1.3</td>\n",
       "      <td>0.0</td>\n",
       "      <td>0.0</td>\n",
       "    </tr>\n",
       "    <tr>\n",
       "      <th>3</th>\n",
       "      <td>8</td>\n",
       "      <td>6</td>\n",
       "      <td>mar</td>\n",
       "      <td>fri</td>\n",
       "      <td>91.7</td>\n",
       "      <td>33.3</td>\n",
       "      <td>77.5</td>\n",
       "      <td>9.0</td>\n",
       "      <td>8.3</td>\n",
       "      <td>97</td>\n",
       "      <td>4.0</td>\n",
       "      <td>0.2</td>\n",
       "      <td>0.0</td>\n",
       "    </tr>\n",
       "    <tr>\n",
       "      <th>4</th>\n",
       "      <td>8</td>\n",
       "      <td>6</td>\n",
       "      <td>mar</td>\n",
       "      <td>sun</td>\n",
       "      <td>89.3</td>\n",
       "      <td>51.3</td>\n",
       "      <td>102.2</td>\n",
       "      <td>9.6</td>\n",
       "      <td>11.4</td>\n",
       "      <td>99</td>\n",
       "      <td>1.8</td>\n",
       "      <td>0.0</td>\n",
       "      <td>0.0</td>\n",
       "    </tr>\n",
       "  </tbody>\n",
       "</table>\n",
       "</div>"
      ],
      "text/plain": [
       "   X  Y month  day  FFMC   DMC     DC  ISI  temp  RH  wind  rain  area\n",
       "0  7  5   mar  fri  86.2  26.2   94.3  5.1   8.2  51   6.7   0.0   0.0\n",
       "1  7  4   oct  tue  90.6  35.4  669.1  6.7  18.0  33   0.9   0.0   0.0\n",
       "2  7  4   oct  sat  90.6  43.7  686.9  6.7  14.6  33   1.3   0.0   0.0\n",
       "3  8  6   mar  fri  91.7  33.3   77.5  9.0   8.3  97   4.0   0.2   0.0\n",
       "4  8  6   mar  sun  89.3  51.3  102.2  9.6  11.4  99   1.8   0.0   0.0"
      ]
     },
     "execution_count": 181,
     "metadata": {},
     "output_type": "execute_result"
    }
   ],
   "source": [
    "# loading of dataframe\n",
    "forestdf = pd.read_csv('C:\\\\Users\\\\user\\\\Desktop\\\\Data Science\\\\Forest Fire\\\\forestfires.csv')\n",
    "\n",
    "forestdf.head()"
   ]
  },
  {
   "cell_type": "markdown",
   "id": "7a7b2da7",
   "metadata": {},
   "source": [
    "Where DMC (Duff Moisture Code), FFMC (Fine fuel Mositure Code) and DC (Drought Code) for the fire with the largest impacted area"
   ]
  },
  {
   "cell_type": "code",
   "execution_count": 12,
   "id": "cbe3699d",
   "metadata": {},
   "outputs": [
    {
     "data": {
      "text/plain": [
       "238    92.5\n",
       "Name: FFMC, dtype: float64"
      ]
     },
     "execution_count": 12,
     "metadata": {},
     "output_type": "execute_result"
    }
   ],
   "source": [
    "DMC_Max = forestdf[forestdf['area'] == max(forestdf['area'])]['DMC']\n",
    "FFMC_Max = forestdf[forestdf['area'] == max(forestdf['area'])]['FFMC']\n",
    "DC_Max = forestdf[forestdf['area'] == max(forestdf['area'])]['DC']\n",
    "\n",
    "FFMC_Max"
   ]
  },
  {
   "cell_type": "markdown",
   "id": "de157362",
   "metadata": {},
   "source": [
    "DMC (Duff Moisture Code), FFMC (Fine fuel Mositure Code) and DC (Drought Code) for the fire with the largest impacted area"
   ]
  },
  {
   "cell_type": "code",
   "execution_count": 17,
   "id": "60eb1dc7",
   "metadata": {},
   "outputs": [
    {
     "name": "stdout",
     "output_type": "stream",
     "text": [
      "     X  Y month  day  FFMC    DMC     DC   ISI  temp  RH  wind  rain     area\n",
      "234  4  5   sep  sat  92.5  121.1  674.4   8.6  17.7  25   3.1   0.0   154.88\n",
      "235  8  6   aug  sun  91.4  142.4  601.4  10.6  19.6  41   5.8   0.0   196.48\n",
      "236  2  2   sep  sat  92.5  121.1  674.4   8.6  18.2  46   1.8   0.0   200.94\n",
      "237  1  2   sep  tue  91.0  129.5  692.6   7.0  18.8  40   2.2   0.0   212.88\n",
      "238  6  5   sep  sat  92.5  121.1  674.4   8.6  25.1  27   4.0   0.0  1090.84\n",
      "239  7  5   apr  sun  81.9    3.0    7.9   3.5  13.4  75   1.8   0.0     0.00\n"
     ]
    }
   ],
   "source": [
    "# Using Slicing operation to identify the highest burnt area\n",
    "The month of september in row 238 experienced the highest forest fire burnt area.\n",
    "print(forestdf[234:240])"
   ]
  },
  {
   "cell_type": "markdown",
   "id": "48e4b49a",
   "metadata": {},
   "source": [
    "The month of september in row 238 experienced the highest forest fire burnt area."
   ]
  },
  {
   "cell_type": "code",
   "execution_count": 19,
   "id": "7f2e40b3",
   "metadata": {},
   "outputs": [
    {
     "data": {
      "text/plain": [
       "['month', 'day']"
      ]
     },
     "execution_count": 19,
     "metadata": {},
     "output_type": "execute_result"
    }
   ],
   "source": [
    "# Creating sub dataframes for ploting categorical data\n",
    "\n",
    "d1 = 'area'\n",
    "df1 = forestdf.drop(columns=d1)\n",
    "cat_col = df1.select_dtypes(include = \"object\").columns.tolist()\n",
    "\n",
    "cat_col"
   ]
  },
  {
   "cell_type": "code",
   "execution_count": 21,
   "id": "df013e3c",
   "metadata": {},
   "outputs": [
    {
     "data": {
      "image/png": "[encoded data removed]",
      "text/plain": [
       "<Figure size 1152x720 with 4 Axes>"
      ]
     },
     "metadata": {
      "needs_background": "light"
     },
     "output_type": "display_data"
    }
   ],
   "source": [
    "## Plotting the categorical columns\n",
    "\n",
    "plt.figure(figsize=(16,10))\n",
    "for i, col in enumerate(cat_col,1):\n",
    "    plt.subplot(2,2,i)\n",
    "    sns.countplot(data=df1, y=col)\n",
    "    plt.subplot(2,2,i+2)\n",
    "    forestdf[col].value_counts(normalize=True).plot.bar()\n",
    "    plt.ylabel(col)\n",
    "    plt.xlabel(\"Appropriation per classification %\")\n",
    "plt.show()"
   ]
  },
  {
   "cell_type": "markdown",
   "id": "c778a982",
   "metadata": {},
   "source": [
    "From the plot, It can be seen that more forest fire was experienced in the month of August and September and Sundays have the most frequent fire occurence. Dataset for the monthly forest fire event showed a positive skewed distribution."
   ]
  },
  {
   "cell_type": "markdown",
   "id": "a100f694",
   "metadata": {},
   "source": [
    "# Statistical Inference"
   ]
  },
  {
   "cell_type": "markdown",
   "id": "e24b36d9",
   "metadata": {},
   "source": [
    "##### Corellation Analysis"
   ]
  },
  {
   "cell_type": "code",
   "execution_count": 307,
   "id": "4f3264f2",
   "metadata": {},
   "outputs": [
    {
     "data": {
      "image/png": "[encoded data removed]",
      "text/plain": [
       "<Figure size 720x720 with 2 Axes>"
      ]
     },
     "metadata": {
      "needs_background": "light"
     },
     "output_type": "display_data"
    }
   ],
   "source": [
    "## Checking the correllation between all the dataset and also in relationship with the burnt area using Heatmap\n",
    "## Note: The correllation analysis was performed based on Pearson's r coefficient.\n",
    "\n",
    "cor1 =  forestdf.corr().round(2)\n",
    "\n",
    "plt.figure(figsize=(10,10))\n",
    "sns.heatmap(cor1, annot=True, cmap=\"RdYlGn\", robust=True)\n",
    "plt.title('Relationship of all Dataset with Heatmap')\n",
    "plt.show()"
   ]
  },
  {
   "cell_type": "markdown",
   "id": "35d385a2",
   "metadata": {},
   "source": [
    "From the correlation analysis, all the variables are not significantly correlated to the area extent of the forest fire. Among all the variables, temperature exhibited slight positve correlation with a value of 0.1."
   ]
  },
  {
   "cell_type": "markdown",
   "id": "2461550e",
   "metadata": {},
   "source": [
    "##### ONE-WAY ANOVA"
   ]
  },
  {
   "cell_type": "markdown",
   "id": "d97c46bf",
   "metadata": {},
   "source": [
    "Null Hypothesis: The burnt area extent **do not differ** among all the forest fire periods (months and days)\n",
    "\n",
    "Alternative Hypothesis: The burnt area extent **differ** among all the forest fire periods (months and days)"
   ]
  },
  {
   "cell_type": "code",
   "execution_count": 70,
   "id": "04d4b846",
   "metadata": {},
   "outputs": [
    {
     "data": {
      "text/plain": [
       "<function matplotlib.pyplot.show(close=None, block=None)>"
      ]
     },
     "execution_count": 70,
     "metadata": {},
     "output_type": "execute_result"
    },
    {
     "data": {
      "image/png": "[encoded data removed]",
      "text/plain": [
       "<Figure size 432x288 with 1 Axes>"
      ]
     },
     "metadata": {
      "needs_background": "light"
     },
     "output_type": "display_data"
    }
   ],
   "source": [
    "df_day = forestdf[[\"area\",\"day\"]]\n",
    "df_day.head()\n",
    "chart_day = sns.barplot(x='day',y='area', data = df_day, order=['sun','mon','tue','wed','thu','fri','sat']);\n",
    "df_day.groupby('day').area.mean()\n",
    "plt.show"
   ]
  },
  {
   "cell_type": "markdown",
   "id": "bde50516",
   "metadata": {},
   "source": [
    "For the chart, it was observed that saturday experienced more burnt forested area on average than the remaining days"
   ]
  },
  {
   "cell_type": "code",
   "execution_count": 104,
   "id": "975f3479",
   "metadata": {},
   "outputs": [
    {
     "data": {
      "image/png": "[encoded data removed]",
      "text/plain": [
       "<Figure size 432x288 with 1 Axes>"
      ]
     },
     "metadata": {
      "needs_background": "light"
     },
     "output_type": "display_data"
    }
   ],
   "source": [
    "df_month = forestdf[[\"area\",\"month\"]]\n",
    "chart_month = sns.barplot(x='month',y='area', data = df_month, order=['jan','feb','mar','apr','may','jun','jul',\n",
    "                                                                      'aug','sep','oct','nov','dec']);\n",
    "df_month.groupby('month').area.mean()\n",
    "plt.show()"
   ]
  },
  {
   "cell_type": "markdown",
   "id": "923775e5",
   "metadata": {},
   "source": [
    "For the chart, it was observed that the month of May and september experienced more burnt forested area on average than the remaning months. on the other hand, the month of january and november experience little to no burnt forested area."
   ]
  },
  {
   "cell_type": "code",
   "execution_count": 101,
   "id": "cc6f7ae2",
   "metadata": {},
   "outputs": [],
   "source": [
    "#grouping of the data according to their category.\n",
    "grps_month = pd.unique(df_month.month.values)\n",
    "grps_day = pd.unique(df_day.day.values)\n",
    "d_data = {grp:df_month['area'][df_month.month == grp] for grp in grps_month}\n",
    "d_data2 = {grp:df_day['area'][df_day.day == grp] for grp in grps_day}"
   ]
  },
  {
   "cell_type": "code",
   "execution_count": 109,
   "id": "675d02ab",
   "metadata": {},
   "outputs": [
    {
     "data": {
      "text/plain": [
       "F_onewayResult(statistic=0.2528525500660293, pvalue=0.9931307408492104)"
      ]
     },
     "execution_count": 109,
     "metadata": {},
     "output_type": "execute_result"
    }
   ],
   "source": [
    "## One way Anova for Monthly occurence\n",
    "from scipy.stats import f_oneway\n",
    "f_oneway(d_data['jan'],d_data['feb'],d_data['mar'],d_data['apr'],d_data['may'],d_data['jun'],\n",
    "         d_data['jul'],d_data['aug'],d_data['sep'],d_data['oct'],d_data['nov'],d_data['dec'])"
   ]
  },
  {
   "cell_type": "markdown",
   "id": "f852fedd",
   "metadata": {},
   "source": [
    "For the Monthly occurence, the test statistics is lower than the critical value, Hence we accept our Null hypothesis and deduce that there is no significant difference between the mean of the months where the forest areas were burnt"
   ]
  },
  {
   "cell_type": "code",
   "execution_count": 110,
   "id": "8df00bff",
   "metadata": {},
   "outputs": [
    {
     "data": {
      "text/plain": [
       "F_onewayResult(statistic=0.8593465295893405, pvalue=0.5246901872339959)"
      ]
     },
     "execution_count": 110,
     "metadata": {},
     "output_type": "execute_result"
    }
   ],
   "source": [
    "## One way Anova for daily occurence\n",
    "from scipy.stats import f_oneway\n",
    "f_oneway(d_data2['sun'],d_data2['mon'],d_data2['tue'],d_data2['wed'],d_data2['thu'],d_data2['fri'],d_data2['sat'])"
   ]
  },
  {
   "cell_type": "markdown",
   "id": "95527ebc",
   "metadata": {},
   "source": [
    "For the daily occurence, the test statistics is higher than the critical value, Hence we reject our Null hypothesis and deduce that there is probably a significant difference between some of the mean of the daily events and therefore we should investigate further the day that differs among the others."
   ]
  },
  {
   "cell_type": "code",
   "execution_count": null,
   "id": "6a011114",
   "metadata": {},
   "outputs": [],
   "source": []
  },
  {
   "cell_type": "markdown",
   "id": "29fbbd51",
   "metadata": {},
   "source": [
    "# Regression and Classification section"
   ]
  },
  {
   "cell_type": "code",
   "execution_count": 286,
   "id": "3da58c7c",
   "metadata": {},
   "outputs": [
    {
     "name": "stdout",
     "output_type": "stream",
     "text": [
      "(517, 14)\n"
     ]
    },
    {
     "data": {
      "text/html": [
       "<div>\n",
       "<style scoped>\n",
       "    .dataframe tbody tr th:only-of-type {\n",
       "        vertical-align: middle;\n",
       "    }\n",
       "\n",
       "    .dataframe tbody tr th {\n",
       "        vertical-align: top;\n",
       "    }\n",
       "\n",
       "    .dataframe thead th {\n",
       "        text-align: right;\n",
       "    }\n",
       "</style>\n",
       "<table border=\"1\" class=\"dataframe\">\n",
       "  <thead>\n",
       "    <tr style=\"text-align: right;\">\n",
       "      <th></th>\n",
       "      <th>X</th>\n",
       "      <th>Y</th>\n",
       "      <th>month</th>\n",
       "      <th>day</th>\n",
       "      <th>FFMC</th>\n",
       "      <th>DMC</th>\n",
       "      <th>DC</th>\n",
       "      <th>ISI</th>\n",
       "      <th>temp</th>\n",
       "      <th>RH</th>\n",
       "      <th>wind</th>\n",
       "      <th>rain</th>\n",
       "      <th>area</th>\n",
       "      <th>fire_scale</th>\n",
       "    </tr>\n",
       "  </thead>\n",
       "  <tbody>\n",
       "    <tr>\n",
       "      <th>0</th>\n",
       "      <td>7</td>\n",
       "      <td>5</td>\n",
       "      <td>mar</td>\n",
       "      <td>fri</td>\n",
       "      <td>86.2</td>\n",
       "      <td>26.2</td>\n",
       "      <td>94.3</td>\n",
       "      <td>5.1</td>\n",
       "      <td>8.2</td>\n",
       "      <td>51</td>\n",
       "      <td>6.7</td>\n",
       "      <td>0.0</td>\n",
       "      <td>0.0</td>\n",
       "      <td>no_fire</td>\n",
       "    </tr>\n",
       "    <tr>\n",
       "      <th>1</th>\n",
       "      <td>7</td>\n",
       "      <td>4</td>\n",
       "      <td>oct</td>\n",
       "      <td>tue</td>\n",
       "      <td>90.6</td>\n",
       "      <td>35.4</td>\n",
       "      <td>669.1</td>\n",
       "      <td>6.7</td>\n",
       "      <td>18.0</td>\n",
       "      <td>33</td>\n",
       "      <td>0.9</td>\n",
       "      <td>0.0</td>\n",
       "      <td>0.0</td>\n",
       "      <td>no_fire</td>\n",
       "    </tr>\n",
       "  </tbody>\n",
       "</table>\n",
       "</div>"
      ],
      "text/plain": [
       "   X  Y month  day  FFMC   DMC     DC  ISI  temp  RH  wind  rain  area  \\\n",
       "0  7  5   mar  fri  86.2  26.2   94.3  5.1   8.2  51   6.7   0.0   0.0   \n",
       "1  7  4   oct  tue  90.6  35.4  669.1  6.7  18.0  33   0.9   0.0   0.0   \n",
       "\n",
       "  fire_scale  \n",
       "0    no_fire  \n",
       "1    no_fire  "
      ]
     },
     "execution_count": 286,
     "metadata": {},
     "output_type": "execute_result"
    }
   ],
   "source": [
    "# Creating a new column to the original dataframe to categorise the fire\n",
    "forestdf['fire_scale'] = forestdf['area'].apply(lambda x: 'no_fire' if (x==0) else\n",
    "                                                          'small_fire' if ((x>0)&(x<2)) else\n",
    "                                                          'large_fire'\n",
    "                                              )\n",
    "print(forestdf.shape)\n",
    "forestdf.head(2)"
   ]
  },
  {
   "cell_type": "code",
   "execution_count": 183,
   "id": "3cdd0d35",
   "metadata": {},
   "outputs": [
    {
     "data": {
      "image/png": "[encoded data removed]",
      "text/plain": [
       "<Figure size 432x288 with 1 Axes>"
      ]
     },
     "metadata": {
      "needs_background": "light"
     },
     "output_type": "display_data"
    }
   ],
   "source": [
    "# Checking for normal distribution of the data\n",
    "plt.hist(forestdf.area, bins = 40)\n",
    "plt.show()"
   ]
  },
  {
   "cell_type": "markdown",
   "id": "9bd8bc84",
   "metadata": {},
   "source": [
    "This data shows that the burnt area are not normally distributed as the dataset is skewed to the right (positively skewed data)"
   ]
  },
  {
   "cell_type": "markdown",
   "id": "37fe19b1",
   "metadata": {},
   "source": [
    "Convert the categorical columns (months and days) to 1's and 0's\n"
   ]
  },
  {
   "cell_type": "code",
   "execution_count": 287,
   "id": "90c711ba",
   "metadata": {},
   "outputs": [],
   "source": [
    "d = forestdf.copy()"
   ]
  },
  {
   "cell_type": "code",
   "execution_count": 185,
   "id": "286d3328",
   "metadata": {},
   "outputs": [],
   "source": [
    "x = d.drop(['area', 'fire_scale'], axis = 1)\n",
    "y = d['area']"
   ]
  },
  {
   "cell_type": "code",
   "execution_count": 186,
   "id": "000af987",
   "metadata": {},
   "outputs": [
    {
     "data": {
      "text/plain": [
       "0    0.0\n",
       "1    0.0\n",
       "2    0.0\n",
       "3    0.0\n",
       "4    0.0\n",
       "Name: area, dtype: float64"
      ]
     },
     "execution_count": 186,
     "metadata": {},
     "output_type": "execute_result"
    }
   ],
   "source": [
    "x = pd.get_dummies(x, ['month','day'])\n",
    "x.head(1)\n",
    "y.head()"
   ]
  },
  {
   "cell_type": "code",
   "execution_count": 187,
   "id": "55b32b66",
   "metadata": {},
   "outputs": [
    {
     "data": {
      "text/plain": [
       "['X', 'Y', 'FFMC', 'DMC', 'DC', 'ISI', 'temp', 'RH', 'wind', 'rain']"
      ]
     },
     "execution_count": 187,
     "metadata": {},
     "output_type": "execute_result"
    }
   ],
   "source": [
    "# seperate the data column that would be used for scaling\n",
    "x_col_scaling = ['X', 'Y', 'FFMC', 'DMC', 'DC', 'ISI', 'temp', 'RH', 'wind', 'rain']\n",
    "x_col_scaling"
   ]
  },
  {
   "cell_type": "markdown",
   "id": "cd45c61d",
   "metadata": {},
   "source": [
    "#### Splitting dataset"
   ]
  },
  {
   "cell_type": "code",
   "execution_count": 189,
   "id": "bd7f78f4",
   "metadata": {},
   "outputs": [
    {
     "name": "stdout",
     "output_type": "stream",
     "text": [
      "(387, 29) (130, 29)\n"
     ]
    }
   ],
   "source": [
    "### Log transformation of data was done since the data does not follow the a normal distribution\n",
    "x_train, x_test, y_train, y_test = train_test_split(x, np.log(y+1), shuffle = True)\n",
    "print(x_train.shape,x_test.shape)"
   ]
  },
  {
   "cell_type": "markdown",
   "id": "25f999be",
   "metadata": {},
   "source": [
    "Since the data does not follow a normal distribution, the data was transformed using a logarithm transformation."
   ]
  },
  {
   "cell_type": "markdown",
   "id": "c4dd3bb4",
   "metadata": {},
   "source": [
    "####Splitting for scaling "
   ]
  },
  {
   "cell_type": "code",
   "execution_count": 190,
   "id": "2814e035",
   "metadata": {},
   "outputs": [],
   "source": [
    "x_train_orig = x_train.loc[:, x_col_scaling]\n",
    "x_train_cat = x_train.drop(x_col_scaling, axis = 1)\n",
    "\n",
    "x_test_orig = x_test.loc[:, x_train_orig.columns]\n",
    "x_test_cat = x_test.loc[:,x_train_cat.columns]"
   ]
  },
  {
   "cell_type": "code",
   "execution_count": 237,
   "id": "35bb9de5",
   "metadata": {},
   "outputs": [
    {
     "name": "stdout",
     "output_type": "stream",
     "text": [
      "(387, 29) (130, 29)\n"
     ]
    }
   ],
   "source": [
    "###Standard Scaler\n",
    "scl= preprocessing.StandardScaler()\n",
    "scl.fit(x_train_orig)\n",
    "\n",
    "x_train_orig = scl.transform(x_train_orig)\n",
    "x_test_orig = scl.transform(x_test_orig)\n",
    "\n",
    "##Combining the scaled dataset\n",
    "x_train = np.concatenate([x_train_orig, np.array(x_train_cat)], axis = 1)\n",
    "x_test = np.concatenate([x_test_orig, np.array(x_test_cat)], axis = 1)\n",
    "\n",
    "print(x_train.shape, x_test.shape)"
   ]
  },
  {
   "cell_type": "markdown",
   "id": "5f717a31",
   "metadata": {},
   "source": [
    "For the training and testing, the data was splitted into 75% for training and the remaining 25% for testing."
   ]
  },
  {
   "cell_type": "markdown",
   "id": "180164db",
   "metadata": {},
   "source": [
    "## Regression Model ##"
   ]
  },
  {
   "cell_type": "markdown",
   "id": "6ad1e28a",
   "metadata": {},
   "source": [
    "## Logistic Linear regression"
   ]
  },
  {
   "cell_type": "code",
   "execution_count": 235,
   "id": "a07c4f8c",
   "metadata": {},
   "outputs": [
    {
     "name": "stdout",
     "output_type": "stream",
     "text": [
      "mse:  2.037\n",
      "mae:  1.189\n",
      "r2:  -0.122\n"
     ]
    },
    {
     "data": {
      "text/plain": [
       "[<matplotlib.lines.Line2D at 0x1b4833b6df0>]"
      ]
     },
     "execution_count": 235,
     "metadata": {},
     "output_type": "execute_result"
    },
    {
     "data": {
      "image/png": "[encoded data removed]",
      "text/plain": [
       "<Figure size 432x288 with 1 Axes>"
      ]
     },
     "metadata": {
      "needs_background": "light"
     },
     "output_type": "display_data"
    }
   ],
   "source": [
    "lr = linear_model.LinearRegression()\n",
    "lr.fit(x_train, y_train)\n",
    "\n",
    "#Predict\n",
    "y_predict = lr.predict(x_test)\n",
    "\n",
    "#metric score\n",
    "mse = metrics.mean_squared_error(y_test, y_predict)\n",
    "print('mse: ', np.round(mse, 3))\n",
    "\n",
    "mae = metrics.mean_absolute_error(y_test, y_predict)\n",
    "print('mae: ', np.round(mae, 3))\n",
    "\n",
    "r2 = metrics.r2_score(y_test, y_predict)\n",
    "print('r2: ', np.round(r2, 3))\n",
    "\n",
    "## Plotting\n",
    "plt.scatter(y_test, y_predict, alpha=0.5)\n",
    "plt.ylim((0,4))\n",
    "plt.xlabel('y_test')\n",
    "plt.ylabel('y_predict')\n",
    "\n",
    "m, b = np.polyfit(y_test, y_predict, 1)\n",
    "plt.plot(y_test, m*y_test+b, color='red')"
   ]
  },
  {
   "cell_type": "markdown",
   "id": "9255e267",
   "metadata": {},
   "source": [
    "After performing linear regression with the transformed dataset, the rsquare value is very far away from 1 and, the actual value and the predicted values are extremely poorly fitted. Hence we need to try another regression model to see if it will perform better than the first one."
   ]
  },
  {
   "cell_type": "markdown",
   "id": "af19eb72",
   "metadata": {},
   "source": [
    "### Support Vector Machine Regression"
   ]
  },
  {
   "cell_type": "code",
   "execution_count": 255,
   "id": "dfaa9394",
   "metadata": {},
   "outputs": [
    {
     "name": "stdout",
     "output_type": "stream",
     "text": [
      "mse:  2.051\n",
      "mae:  1.029\n",
      "r2:  -0.129\n"
     ]
    },
    {
     "data": {
      "text/plain": [
       "[<matplotlib.lines.Line2D at 0x1b48376c160>]"
      ]
     },
     "execution_count": 255,
     "metadata": {},
     "output_type": "execute_result"
    },
    {
     "data": {
      "image/png": "[encoded data removed]",
      "text/plain": [
       "<Figure size 432x288 with 1 Axes>"
      ]
     },
     "metadata": {
      "needs_background": "light"
     },
     "output_type": "display_data"
    }
   ],
   "source": [
    "svr = SVR(C=1, kernel='rbf', max_iter=5e4, gamma='auto', cache_size=1000)\n",
    "svr.fit(x_train, y_train)\n",
    "\n",
    "# Predict\n",
    "y_predict = svr.predict(x_test)\n",
    "\n",
    "#metric score\n",
    "mse = metrics.mean_squared_error(y_test, y_predict)\n",
    "print('mse: ', np.round(mse, 3))\n",
    "\n",
    "mae = metrics.mean_absolute_error(y_test, y_predict)\n",
    "print('mae: ', np.round(mae, 3))\n",
    "\n",
    "r2 = metrics.r2_score(y_test, y_predict)\n",
    "print('r2: ', np.round(r2, 3))\n",
    "\n",
    "## Plotting\n",
    "plt.scatter(y_test, y_predict, alpha=0.5)\n",
    "plt.ylim((0,4))\n",
    "plt.xlabel('y_test')\n",
    "plt.ylabel('y_predict')\n",
    "\n",
    "m, b = np.polyfit(y_test, y_predict, 1)\n",
    "plt.plot(y_test, m*y_test+b, color='red')"
   ]
  },
  {
   "cell_type": "markdown",
   "id": "97194139",
   "metadata": {},
   "source": [
    "Support vector machine regression model poorly performed as compared with that of the linear regression"
   ]
  },
  {
   "cell_type": "code",
   "execution_count": null,
   "id": "da72f9a3",
   "metadata": {},
   "outputs": [],
   "source": []
  },
  {
   "cell_type": "markdown",
   "id": "fd2edc31",
   "metadata": {},
   "source": [
    "## CONCLUSION: \n",
    "The burnt areas for the forest were predicted using linear regression and support vector machine regression models. The two models predicted badly for the dataset. This can be due to the inadequate data to predict the area of forest fire burn. Around 350 training dataset was used.\n",
    "It is recommended that more datasets should be added to the existing data to obtain a representative prediction result. Moreso, upsampling of datasets (introducing artifacts) can also be suggested for periods poorly represented in the dataset to see how the model will be responsive."
   ]
  },
  {
   "cell_type": "markdown",
   "id": "971bb854",
   "metadata": {},
   "source": [
    "## REFERENCE\n",
    "##### Forest Fire data source\n",
    "Source: https://www.kaggle.com/competitions/forestfiresarea/data?select=sample_submission.csv\n"
   ]
  },
  {
   "cell_type": "code",
   "execution_count": null,
   "id": "884254bd",
   "metadata": {},
   "outputs": [],
   "source": []
  }
 ],
 "metadata": {
  "kernelspec": {
   "display_name": "Python 3 (ipykernel)",
   "language": "python",
   "name": "python3"
  },
  "language_info": {
   "codemirror_mode": {
    "name": "ipython",
    "version": 3
   },
   "file_extension": ".py",
   "mimetype": "text/x-python",
   "name": "python",
   "nbconvert_exporter": "python",
   "pygments_lexer": "ipython3",
   "version": "3.9.7"
  }
 },
 "nbformat": 4,
 "nbformat_minor": 5
}
